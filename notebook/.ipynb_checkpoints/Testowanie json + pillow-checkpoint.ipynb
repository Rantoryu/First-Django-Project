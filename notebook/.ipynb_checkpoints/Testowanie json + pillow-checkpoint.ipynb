{
 "cells": [
  {
   "cell_type": "code",
   "execution_count": 1,
   "id": "1eab8485",
   "metadata": {},
   "outputs": [],
   "source": [
    "import PIL\n",
    "import json\n",
    "from PIL import Image, ImageDraw"
   ]
  },
  {
   "cell_type": "code",
   "execution_count": 187,
   "id": "f1731f99",
   "metadata": {},
   "outputs": [
    {
     "name": "stdout",
     "output_type": "stream",
     "text": [
      "[0.247378021, 0.44655928]\n",
      "[0.301963359, 0.558306575]\n"
     ]
    }
   ],
   "source": [
    "with open('Piwo-Lodowka_bsk1vic1bqgr71q3qe1g_predictions.json','r') as f:\n",
    "    data = json.load(f)\n",
    "    f.close()\n",
    "\n",
    "list=data[0]['shape']\n",
    "\n",
    "coords_list = [] \n",
    "for i in list[\"_coords\"]:\n",
    "    print(i)  \n",
    "    #_coords.append(i['shape'][0]) \n",
    "    #_coords.append(i['shape'][0] + i['shape']['width']) \n",
    "    #_coords.append(i['shape'][1]) \n",
    "    #_coords.append(i['shape'][1] + i['shape']['height']) \n",
    "    #coords_list.append(_coords) \n",
    "\n",
    "image = Image.open('Piwo-Lodowka_bsk1vic1bqgr71q3qe1g.jpeg')\n",
    "imgcp = image.copy()\n",
    "imgcp_draw = ImageDraw.Draw(imgcp)\n",
    "\n",
    "for coord in  coords_list:\n",
    "     imgcp_draw.rectangle(coord, fill = None, outline = \"red\")\n",
    "\n",
    "#imgcp.save('result.jpg')\n",
    "#imgcp.show()\n"
   ]
  },
  {
   "cell_type": "code",
   "execution_count": null,
   "id": "b62cbd77",
   "metadata": {},
   "outputs": [],
   "source": []
  },
  {
   "cell_type": "code",
   "execution_count": null,
   "id": "1840243b",
   "metadata": {},
   "outputs": [],
   "source": []
  }
 ],
 "metadata": {
  "kernelspec": {
   "display_name": "Python 3",
   "language": "python",
   "name": "python3"
  },
  "language_info": {
   "codemirror_mode": {
    "name": "ipython",
    "version": 3
   },
   "file_extension": ".py",
   "mimetype": "text/x-python",
   "name": "python",
   "nbconvert_exporter": "python",
   "pygments_lexer": "ipython3",
   "version": "3.6.8"
  }
 },
 "nbformat": 4,
 "nbformat_minor": 5
}
